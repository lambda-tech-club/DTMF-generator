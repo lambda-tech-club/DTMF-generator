{
  "cells": [
    {
      "cell_type": "markdown",
      "metadata": {
        "id": "view-in-github",
        "colab_type": "text"
      },
      "source": [
        "<a href=\"https://colab.research.google.com/github/yoidea/DTMF-generator/blob/main/DTMF_generator.ipynb\" target=\"_parent\"><img src=\"https://colab.research.google.com/assets/colab-badge.svg\" alt=\"Open In Colab\"/></a>"
      ]
    },
    {
      "cell_type": "code",
      "execution_count": null,
      "metadata": {
        "id": "-Nl9uqIUU6bj"
      },
      "outputs": [],
      "source": [
        "# @title **事前準備**\n",
        "\n",
        "!pip install jaconv\n",
        "from jaconv import z2h, hira2kata\n",
        "from IPython.display import Audio\n",
        "import numpy as np"
      ]
    },
    {
      "cell_type": "code",
      "execution_count": 2,
      "metadata": {
        "id": "SJOJKcfhU9yj"
      },
      "outputs": [],
      "source": [
        "# @title **初期設定**\n",
        "\n",
        "SAMPLING_RATE = 48000 # @param{type: \"number\"}\n",
        "SIGNAL_DURATION = 0.1 # @param{type: \"number\"}\n",
        "PAUSE_DURATION = 0.1 # @param{type: \"number\"}\n",
        "\n",
        "# ダイヤル番号の周波数\n",
        "# https://elaws.e-gov.go.jp/document?lawid=360M50001000031#360M50001000031-Mpat_2\n",
        "TONE_TABLE: dict[str, tuple[int, int]] = {\n",
        "    \"1\": (697, 1209), \"2\": (697, 1336), \"3\": (697, 1477),\n",
        "    \"4\": (770, 1209), \"5\": (770, 1336), \"6\": (770, 1477),\n",
        "    \"7\": (852, 1209), \"8\": (852, 1336), \"9\": (852, 1477),\n",
        "    \"*\": (941, 1209), \"0\": (941, 1336), \"#\": (941, 1477)\n",
        "}\n",
        "\n",
        "# フリーメッセージ番号一覧\n",
        "# https://www.docomo.ne.jp/service/sms/usage/\n",
        "CODE_TABLE: dict[str, str] = {\n",
        "    \"ｱ\": \"11\", \"ｲ\": \"12\", \"ｳ\": \"13\", \"ｴ\": \"14\", \"ｵ\": \"15\",\n",
        "    \"ｶ\": \"21\", \"ｷ\": \"22\", \"ｸ\": \"23\", \"ｹ\": \"24\", \"ｺ\": \"25\",\n",
        "    \"ｻ\": \"31\", \"ｼ\": \"32\", \"ｽ\": \"33\", \"ｾ\": \"34\", \"ｿ\": \"35\",\n",
        "    \"ﾀ\": \"41\", \"ﾁ\": \"42\", \"ﾂ\": \"43\", \"ﾃ\": \"44\", \"ﾄ\": \"45\",\n",
        "    \"ﾅ\": \"51\", \"ﾆ\": \"52\", \"ﾇ\": \"53\", \"ﾈ\": \"54\", \"ﾉ\": \"55\",\n",
        "    \"ﾊ\": \"61\", \"ﾋ\": \"62\", \"ﾌ\": \"63\", \"ﾍ\": \"64\", \"ﾎ\": \"65\",\n",
        "    \"ﾏ\": \"71\", \"ﾐ\": \"72\", \"ﾑ\": \"73\", \"ﾒ\": \"74\", \"ﾓ\": \"75\",\n",
        "    \"ﾔ\": \"81\", \"(\": \"82\", \"ﾕ\": \"83\", \")\": \"84\", \"ﾖ\": \"85\",\n",
        "    \"ﾗ\": \"91\", \"ﾘ\": \"92\", \"ﾙ\": \"93\", \"ﾚ\": \"94\", \"ﾛ\": \"95\",\n",
        "    \"ﾜ\": \"01\", \"ｦ\": \"02\", \"ﾝ\": \"03\", \"ﾞ\": \"04\", \"ﾟ\": \"05\",\n",
        "    \"A\": \"16\", \"B\": \"17\", \"C\": \"18\", \"D\": \"19\", \"E\": \"10\",\n",
        "    \"F\": \"26\", \"G\": \"27\", \"H\": \"28\", \"I\": \"29\", \"J\": \"20\",\n",
        "    \"K\": \"36\", \"L\": \"37\", \"M\": \"38\", \"N\": \"39\", \"O\": \"30\",\n",
        "    \"P\": \"46\", \"Q\": \"47\", \"R\": \"48\", \"S\": \"49\", \"T\": \"40\",\n",
        "    \"U\": \"56\", \"V\": \"57\", \"W\": \"58\", \"X\": \"59\", \"Y\": \"50\",\n",
        "    \"Z\": \"66\", \"?\": \"67\", \"!\": \"68\", \"ｰ\": \"69\", \"/\": \"60\",\n",
        "    \"¥\": \"76\", \"&\": \"77\", \" \": \"78\", \"☎\": \"79\",\n",
        "    \"*\": \"86\", \"#\": \"87\", \"♥\": \"89\",\n",
        "    \"1\": \"96\", \"2\": \"97\", \"3\": \"98\", \"4\": \"99\", \"5\": \"90\",\n",
        "    \"6\": \"06\", \"7\": \"07\", \"8\": \"08\", \"9\": \"09\", \"0\": \"00\"\n",
        "}"
      ]
    },
    {
      "cell_type": "code",
      "execution_count": 7,
      "metadata": {
        "id": "1Vfrla7cVanz"
      },
      "outputs": [],
      "source": [
        "# @title **出力波形の生成処理**\n",
        "\n",
        "def generate_DTMF_wave(numbers: str):\n",
        "    print(numbers)\n",
        "    # ダイヤル番号から周波数に変換\n",
        "    dial_tones = (TONE_TABLE[n] for n in numbers if n in TONE_TABLE)\n",
        "    data = np.array([])\n",
        "    t = np.linspace(0, SIGNAL_DURATION, int(SAMPLING_RATE*SIGNAL_DURATION))\n",
        "    u = np.linspace(0, PAUSE_DURATION, int(SAMPLING_RATE*PAUSE_DURATION))\n",
        "\n",
        "    # 波形を生成\n",
        "    for tone in dial_tones:\n",
        "        # 低群周波数\n",
        "        low_tone = np.sin(2*np.pi*tone[0]*t)\n",
        "        # 高群周波数\n",
        "        high_tone = np.sin(2*np.pi*tone[1]*t)\n",
        "        # 周波数合成\n",
        "        data = np.append(data, low_tone+high_tone)\n",
        "        # ポーズ挿入\n",
        "        data = np.append(data, u*0)\n",
        "    return data"
      ]
    },
    {
      "cell_type": "code",
      "execution_count": null,
      "metadata": {
        "id": "Az29SPOn6-qC"
      },
      "outputs": [],
      "source": [
        "# @title **電話番号の送信**\n",
        "\n",
        "DIAL_NUMBER = \"090-0123-4567\" # @param{type: \"string\"}\n",
        "\n",
        "# DTMF信号に変換\n",
        "data = generate_DTMF_wave(DIAL_NUMBER)\n",
        "# 信号送出\n",
        "Audio(data, rate=SAMPLING_RATE, autoplay=True)"
      ]
    },
    {
      "cell_type": "code",
      "execution_count": null,
      "metadata": {
        "id": "tmR77dMhYg5Q"
      },
      "outputs": [],
      "source": [
        "# @title **メッセージの送信**\n",
        "\n",
        "MESSAGE = \"テキストメッセージ\" # @param{type: \"string\"}\n",
        "\n",
        "# 半角カタカナに合わせて正規化\n",
        "normalized_message = z2h(hira2kata(MESSAGE), kana=True, ascii=True, digit=True)\n",
        "# メッセージ番号に変換\n",
        "message_numbers = (CODE_TABLE[m] for m in normalized_message if m in CODE_TABLE)\n",
        "# 仕様に合わせて先頭と末尾に番号追加\n",
        "# https://www.docomo.ne.jp/service/sms/usage/\n",
        "dial_number = \"*2*2\" + \"\".join(message_numbers) + \"##\"\n",
        "\n",
        "# DTMF信号に変換\n",
        "data = generate_DTMF_wave(dial_number)\n",
        "# 信号送出\n",
        "Audio(data, rate=SAMPLING_RATE, autoplay=True)"
      ]
    }
  ],
  "metadata": {
    "colab": {
      "provenance": [],
      "authorship_tag": "ABX9TyP7upWQAEZpGTHhqgMGlOWO",
      "include_colab_link": true
    },
    "kernelspec": {
      "display_name": "Python 3",
      "name": "python3"
    },
    "language_info": {
      "name": "python"
    }
  },
  "nbformat": 4,
  "nbformat_minor": 0
}